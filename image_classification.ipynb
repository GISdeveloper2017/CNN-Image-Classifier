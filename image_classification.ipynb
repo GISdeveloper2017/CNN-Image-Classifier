{
 "cells": [
  {
   "cell_type": "markdown",
   "metadata": {
    "collapsed": true,
    "deletable": true,
    "editable": true
   },
   "source": [
    "# Image Classification\n",
    "In this project, you'll classify images from the [CIFAR-10 dataset](https://www.cs.toronto.edu/~kriz/cifar.html).  The dataset consists of airplanes, dogs, cats, and other objects. You'll preprocess the images, then train a convolutional neural network on all the samples. The images need to be normalized and the labels need to be one-hot encoded.  You'll get to apply what you learned and build a convolutional, max pooling, dropout, and fully connected layers.  At the end, you'll get to see your neural network's predictions on the sample images.\n",
    "## Get the Data\n",
    "Run the following cell to download the [CIFAR-10 dataset for python](https://www.cs.toronto.edu/~kriz/cifar-10-python.tar.gz)."
   ]
  },
  {
   "cell_type": "code",
   "execution_count": 1,
   "metadata": {
    "collapsed": false,
    "deletable": true,
    "editable": true
   },
   "outputs": [
    {
     "name": "stderr",
     "output_type": "stream",
     "text": [
      "CIFAR-10 Dataset: 171MB [01:35, 1.79MB/s]                              \n"
     ]
    },
    {
     "name": "stdout",
     "output_type": "stream",
     "text": [
      "All files found!\n"
     ]
    }
   ],
   "source": [
    "\"\"\"\n",
    "DON'T MODIFY ANYTHING IN THIS CELL THAT IS BELOW THIS LINE\n",
    "\"\"\"\n",
    "from urllib.request import urlretrieve\n",
    "from os.path import isfile, isdir\n",
    "from tqdm import tqdm\n",
    "import problem_unittests as tests\n",
    "import tarfile\n",
    "\n",
    "cifar10_dataset_folder_path = 'cifar-10-batches-py'\n",
    "\n",
    "class DLProgress(tqdm):\n",
    "    last_block = 0\n",
    "\n",
    "    def hook(self, block_num=1, block_size=1, total_size=None):\n",
    "        self.total = total_size\n",
    "        self.update((block_num - self.last_block) * block_size)\n",
    "        self.last_block = block_num\n",
    "\n",
    "if not isfile('cifar-10-python.tar.gz'):\n",
    "    with DLProgress(unit='B', unit_scale=True, miniters=1, desc='CIFAR-10 Dataset') as pbar:\n",
    "        urlretrieve(\n",
    "            'https://www.cs.toronto.edu/~kriz/cifar-10-python.tar.gz',\n",
    "            'cifar-10-python.tar.gz',\n",
    "            pbar.hook)\n",
    "\n",
    "if not isdir(cifar10_dataset_folder_path):\n",
    "    with tarfile.open('cifar-10-python.tar.gz') as tar:\n",
    "        tar.extractall()\n",
    "        tar.close()\n",
    "\n",
    "\n",
    "tests.test_folder_path(cifar10_dataset_folder_path)"
   ]
  },
  {
   "cell_type": "markdown",
   "metadata": {
    "deletable": true,
    "editable": true
   },
   "source": [
    "## Explore the Data\n",
    "The dataset is broken into batches to prevent your machine from running out of memory.  The CIFAR-10 dataset consists of 5 batches, named `data_batch_1`, `data_batch_2`, etc.. Each batch contains the labels and images that are one of the following:\n",
    "* airplane\n",
    "* automobile\n",
    "* bird\n",
    "* cat\n",
    "* deer\n",
    "* dog\n",
    "* frog\n",
    "* horse\n",
    "* ship\n",
    "* truck\n",
    "\n",
    "Understanding a dataset is part of making predictions on the data.  Play around with the code cell below by changing the `batch_id` and `sample_id`. The `batch_id` is the id for a batch (1-5). The `sample_id` is the id for a image and label pair in the batch.\n",
    "\n",
    "Ask yourself \"What are all possible labels?\", \"What is the range of values for the image data?\", \"Are the labels in order or random?\".  Answers to questions like these will help you preprocess the data and end up with better predictions."
   ]
  },
  {
   "cell_type": "code",
   "execution_count": 2,
   "metadata": {
    "collapsed": false,
    "deletable": true,
    "editable": true
   },
   "outputs": [
    {
     "name": "stdout",
     "output_type": "stream",
     "text": [
      "\n",
      "Stats of batch 1:\n",
      "Samples: 10000\n",
      "Label Counts: {0: 1005, 1: 974, 2: 1032, 3: 1016, 4: 999, 5: 937, 6: 1030, 7: 1001, 8: 1025, 9: 981}\n",
      "First 20 Labels: [6, 9, 9, 4, 1, 1, 2, 7, 8, 3, 4, 7, 7, 2, 9, 9, 9, 3, 2, 6]\n",
      "\n",
      "Example of Image 5:\n",
      "Image - Min Value: 0 Max Value: 252\n",
      "Image - Shape: (32, 32, 3)\n",
      "Label - Label Id: 1 Name: automobile\n"
     ]
    },
    {
     "data": {
      "image/png": "[encoded data removed]",
      "text/plain": [
       "<matplotlib.figure.Figure at 0x7f300e60b6d8>"
      ]
     },
     "metadata": {
      "image/png": {
       "height": 250,
       "width": 253
      }
     },
     "output_type": "display_data"
    }
   ],
   "source": [
    "%matplotlib inline\n",
    "%config InlineBackend.figure_format = 'retina'\n",
    "\n",
    "import helper\n",
    "import numpy as np\n",
    "\n",
    "# Explore the dataset\n",
    "batch_id = 1\n",
    "sample_id = 5\n",
    "helper.display_stats(cifar10_dataset_folder_path, batch_id, sample_id)"
   ]
  },
  {
   "cell_type": "markdown",
   "metadata": {
    "deletable": true,
    "editable": true
   },
   "source": [
    "## Implement Preprocess Functions\n",
    "### Normalize\n",
    "In the cell below, implement the `normalize` function to take in image data, `x`, and return it as a normalized Numpy array. The values should be in the range of 0 to 1, inclusive.  The return object should be the same shape as `x`."
   ]
  },
  {
   "cell_type": "code",
   "execution_count": 3,
   "metadata": {
    "collapsed": false,
    "deletable": true,
    "editable": true
   },
   "outputs": [
    {
     "name": "stdout",
     "output_type": "stream",
     "text": [
      "Tests Passed\n"
     ]
    }
   ],
   "source": [
    "def normalize(x):\n",
    "    \"\"\"\n",
    "    Normalize a list of sample image data in the range of 0 to 1\n",
    "    : x: List of image data.  The image shape is (32, 32, 3)\n",
    "    : return: Numpy array of normalize data\n",
    "    \"\"\"\n",
    "    # TODO: Implement Function        \n",
    "    s=np.array(x)\n",
    "    s=s/255\n",
    "    return s\n",
    "\n",
    "\"\"\"\n",
    "DON'T MODIFY ANYTHING IN THIS CELL THAT IS BELOW THIS LINE\n",
    "\"\"\"\n",
    "tests.test_normalize(normalize)"
   ]
  },
  {
   "cell_type": "markdown",
   "metadata": {
    "deletable": true,
    "editable": true
   },
   "source": [
    "### One-hot encode\n",
    "Just like the previous code cell, you'll be implementing a function for preprocessing.  This time, you'll implement the `one_hot_encode` function. The input, `x`, are a list of labels.  Implement the function to return the list of labels as One-Hot encoded Numpy array.  The possible values for labels are 0 to 9. The one-hot encoding function should return the same encoding for each value between each call to `one_hot_encode`.  Make sure to save the map of encodings outside the function.\n",
    "\n",
    "**Hint:**\n",
    "\n",
    "Look into LabelBinarizer in the preprocessing module of sklearn."
   ]
  },
  {
   "cell_type": "code",
   "execution_count": 4,
   "metadata": {
    "collapsed": false,
    "deletable": true,
    "editable": true
   },
   "outputs": [
    {
     "name": "stdout",
     "output_type": "stream",
     "text": [
      "Tests Passed\n"
     ]
    }
   ],
   "source": [
    "from sklearn import preprocessing\n",
    "\n",
    "def one_hot_encode(x):\n",
    "    \"\"\"\n",
    "    One hot encode a list of sample labels. Return a one-hot encoded vector for each label.\n",
    "    : x: List of sample Labels\n",
    "    : return: Numpy array of one-hot encoded labels\n",
    "    \"\"\"\n",
    "    # TODO: Implement Function\n",
    "    hot_enc=np.zeros((len(x),10))\n",
    "    for i,lab in enumerate(x):\n",
    "        hot_enc[i][lab]=1\n",
    "    return hot_enc\n",
    "\n",
    "\n",
    "\"\"\"\n",
    "DON'T MODIFY ANYTHING IN THIS CELL THAT IS BELOW THIS LINE\n",
    "\"\"\"\n",
    "tests.test_one_hot_encode(one_hot_encode)"
   ]
  },
  {
   "cell_type": "markdown",
   "metadata": {
    "deletable": true,
    "editable": true
   },
   "source": [
    "### Randomize Data\n",
    "As you saw from exploring the data above, the order of the samples are randomized.  It doesn't hurt to randomize it again, but you don't need to for this dataset."
   ]
  },
  {
   "cell_type": "markdown",
   "metadata": {
    "deletable": true,
    "editable": true
   },
   "source": [
    "## Preprocess all the data and save it\n",
    "Running the code cell below will preprocess all the CIFAR-10 data and save it to file. The code below also uses 10% of the training data for validation."
   ]
  },
  {
   "cell_type": "code",
   "execution_count": 5,
   "metadata": {
    "collapsed": false,
    "deletable": true,
    "editable": true
   },
   "outputs": [],
   "source": [
    "\"\"\"\n",
    "DON'T MODIFY ANYTHING IN THIS CELL\n",
    "\"\"\"\n",
    "# Preprocess Training, Validation, and Testing Data\n",
    "helper.preprocess_and_save_data(cifar10_dataset_folder_path, normalize, one_hot_encode)"
   ]
  },
  {
   "cell_type": "markdown",
   "metadata": {
    "deletable": true,
    "editable": true
   },
   "source": [
    "# Check Point\n",
    "This is your first checkpoint.  If you ever decide to come back to this notebook or have to restart the notebook, you can start from here.  The preprocessed data has been saved to disk."
   ]
  },
  {
   "cell_type": "code",
   "execution_count": 6,
   "metadata": {
    "collapsed": true,
    "deletable": true,
    "editable": true
   },
   "outputs": [],
   "source": [
    "\"\"\"\n",
    "DON'T MODIFY ANYTHING IN THIS CELL\n",
    "\"\"\"\n",
    "import pickle\n",
    "import problem_unittests as tests\n",
    "import helper\n",
    "\n",
    "# Load the Preprocessed Validation data\n",
    "valid_features, valid_labels = pickle.load(open('preprocess_validation.p', mode='rb'))"
   ]
  },
  {
   "cell_type": "markdown",
   "metadata": {
    "deletable": true,
    "editable": true
   },
   "source": [
    "## Build the network\n",
    "For the neural network, you'll build each layer into a function.  Most of the code you've seen has been outside of functions. To test your code more thoroughly, we require that you put each layer in a function.  This allows us to give you better feedback and test for simple mistakes using our unittests before you submit your project.\n",
    "\n",
    ">**Note:** If you're finding it hard to dedicate enough time for this course each week, we've provided a small shortcut to this part of the project. In the next couple of problems, you'll have the option to use classes from the [TensorFlow Layers](https://www.tensorflow.org/api_docs/python/tf/layers) or [TensorFlow Layers (contrib)](https://www.tensorflow.org/api_guides/python/contrib.layers) packages to build each layer, except the layers you build in the \"Convolutional and Max Pooling Layer\" section.  TF Layers is similar to Keras's and TFLearn's abstraction to layers, so it's easy to pickup.\n",
    "\n",
    ">However, if you would like to get the most out of this course, try to solve all the problems _without_ using anything from the TF Layers packages. You **can** still use classes from other packages that happen to have the same name as ones you find in TF Layers! For example, instead of using the TF Layers version of the `conv2d` class, [tf.layers.conv2d](https://www.tensorflow.org/api_docs/python/tf/layers/conv2d), you would want to use the TF Neural Network version of `conv2d`, [tf.nn.conv2d](https://www.tensorflow.org/api_docs/python/tf/nn/conv2d). \n",
    "\n",
    "Let's begin!\n",
    "\n",
    "### Input\n",
    "The neural network needs to read the image data, one-hot encoded labels, and dropout keep probability. Implement the following functions\n",
    "* Implement `neural_net_image_input`\n",
    " * Return a [TF Placeholder](https://www.tensorflow.org/api_docs/python/tf/placeholder)\n",
    " * Set the shape using `image_shape` with batch size set to `None`.\n",
    " * Name the TensorFlow placeholder \"x\" using the TensorFlow `name` parameter in the [TF Placeholder](https://www.tensorflow.org/api_docs/python/tf/placeholder).\n",
    "* Implement `neural_net_label_input`\n",
    " * Return a [TF Placeholder](https://www.tensorflow.org/api_docs/python/tf/placeholder)\n",
    " * Set the shape using `n_classes` with batch size set to `None`.\n",
    " * Name the TensorFlow placeholder \"y\" using the TensorFlow `name` parameter in the [TF Placeholder](https://www.tensorflow.org/api_docs/python/tf/placeholder).\n",
    "* Implement `neural_net_keep_prob_input`\n",
    " * Return a [TF Placeholder](https://www.tensorflow.org/api_docs/python/tf/placeholder) for dropout keep probability.\n",
    " * Name the TensorFlow placeholder \"keep_prob\" using the TensorFlow `name` parameter in the [TF Placeholder](https://www.tensorflow.org/api_docs/python/tf/placeholder).\n",
    "\n",
    "These names will be used at the end of the project to load your saved model.\n",
    "\n",
    "Note: `None` for shapes in TensorFlow allow for a dynamic size."
   ]
  },
  {
   "cell_type": "code",
   "execution_count": 7,
   "metadata": {
    "collapsed": false,
    "deletable": true,
    "editable": true
   },
   "outputs": [
    {
     "name": "stdout",
     "output_type": "stream",
     "text": [
      "Image Input Tests Passed.\n",
      "Label Input Tests Passed.\n",
      "Keep Prob Tests Passed.\n"
     ]
    }
   ],
   "source": [
    "import tensorflow as tf\n",
    "\n",
    "def neural_net_image_input(image_shape):\n",
    "    \"\"\"\n",
    "    Return a Tensor for a batch of image input\n",
    "    : image_shape: Shape of the images\n",
    "    : return: Tensor for image input.\n",
    "    \"\"\"\n",
    "    n=tf.placeholder(tf.float32,[None,image_shape[0],image_shape[1],image_shape[2]],name=\"x\")\n",
    "    # TODO: Implement Function\n",
    "    return n\n",
    "\n",
    "\n",
    "def neural_net_label_input(n_classes):\n",
    "    \"\"\"\n",
    "    Return a Tensor for a batch of label input\n",
    "    : n_classes: Number of classes\n",
    "    : return: Tensor for label input.\n",
    "    \"\"\"\n",
    "    # TODO: Implement Function\n",
    "    n=tf.placeholder(tf.float32,[None,n_classes],name=\"y\")\n",
    "    return n\n",
    "\n",
    "\n",
    "def neural_net_keep_prob_input():\n",
    "    \"\"\"\n",
    "    Return a Tensor for keep probability\n",
    "    : return: Tensor for keep probability.\n",
    "    \"\"\"\n",
    "    # TODO: Implement Function\n",
    "    n=tf.placeholder(tf.float32,name=\"keep_prob\")\n",
    "    return n\n",
    "\n",
    "\n",
    "\"\"\"\n",
    "DON'T MODIFY ANYTHING IN THIS CELL THAT IS BELOW THIS LINE\n",
    "\"\"\"\n",
    "tf.reset_default_graph()\n",
    "tests.test_nn_image_inputs(neural_net_image_input)\n",
    "tests.test_nn_label_inputs(neural_net_label_input)\n",
    "tests.test_nn_keep_prob_inputs(neural_net_keep_prob_input)"
   ]
  },
  {
   "cell_type": "markdown",
   "metadata": {
    "deletable": true,
    "editable": true
   },
   "source": [
    "### Convolution and Max Pooling Layer\n",
    "Convolution layers have a lot of success with images. For this code cell, you should implement the function `conv2d_maxpool` to apply convolution then max pooling:\n",
    "* Create the weight and bias using `conv_ksize`, `conv_num_outputs` and the shape of `x_tensor`.\n",
    "* Apply a convolution to `x_tensor` using weight and `conv_strides`.\n",
    " * We recommend you use same padding, but you're welcome to use any padding.\n",
    "* Add bias\n",
    "* Add a nonlinear activation to the convolution.\n",
    "* Apply Max Pooling using `pool_ksize` and `pool_strides`.\n",
    " * We recommend you use same padding, but you're welcome to use any padding.\n",
    "\n",
    "**Note:** You **can't** use [TensorFlow Layers](https://www.tensorflow.org/api_docs/python/tf/layers) or [TensorFlow Layers (contrib)](https://www.tensorflow.org/api_guides/python/contrib.layers) for **this** layer, but you can still use TensorFlow's [Neural Network](https://www.tensorflow.org/api_docs/python/tf/nn) package. You may still use the shortcut option for all the **other** layers.\n",
    "\n",
    "** Hint: **\n",
    "\n",
    "When unpacking values as an argument in Python, look into the [unpacking](https://docs.python.org/3/tutorial/controlflow.html#unpacking-argument-lists) operator. "
   ]
  },
  {
   "cell_type": "code",
   "execution_count": 8,
   "metadata": {
    "collapsed": false,
    "deletable": true,
    "editable": true
   },
   "outputs": [
    {
     "name": "stdout",
     "output_type": "stream",
     "text": [
      "Tests Passed\n"
     ]
    }
   ],
   "source": [
    "def conv2d_maxpool(x_tensor, conv_num_outputs, conv_ksize, conv_strides, pool_ksize, pool_strides):\n",
    "    \"\"\"\n",
    "    Apply convolution then max pooling to x_tensor\n",
    "    :param x_tensor: TensorFlow Tensor\n",
    "    :param conv_num_outputs: Number of outputs for the convolutional layer\n",
    "    :param conv_ksize: kernal size 2-D Tuple for the convolutional layer\n",
    "    :param conv_strides: Stride 2-D Tuple for convolution\n",
    "    :param pool_ksize: kernal size 2-D Tuple for pool\n",
    "    :param pool_strides: Stride 2-D Tuple for pool\n",
    "    : return: A tensor that represents convolution and max pooling of x_tensor\n",
    "    \"\"\"\n",
    "    # TODO: Implement Function\n",
    "    channels = x_tensor.shape[3].value\n",
    "    \n",
    "    weight = tf.Variable(tf.truncated_normal((*conv_ksize, channels, conv_num_outputs),stddev=0.1))\n",
    "    bias = tf.Variable(tf.zeros(conv_num_outputs))\n",
    "    \n",
    "    conv_layer = tf.nn.conv2d(x_tensor,weight,(1,*conv_strides,1), padding='SAME')\n",
    "    conv_layer = tf.nn.bias_add(conv_layer, bias)\n",
    "    conv_layer = tf.nn.relu(conv_layer)\n",
    "    \n",
    "    pool_layer = tf.nn.max_pool(conv_layer,(1,*pool_ksize,1),(1,*pool_strides,1),padding='SAME')    \n",
    "\n",
    "    return pool_layer\n",
    "\n",
    "\n",
    "\"\"\"\n",
    "DON'T MODIFY ANYTHING IN THIS CELL THAT IS BELOW THIS LINE\n",
    "\"\"\"\n",
    "tests.test_con_pool(conv2d_maxpool)"
   ]
  },
  {
   "cell_type": "markdown",
   "metadata": {
    "deletable": true,
    "editable": true
   },
   "source": [
    "### Flatten Layer\n",
    "Implement the `flatten` function to change the dimension of `x_tensor` from a 4-D tensor to a 2-D tensor.  The output should be the shape (*Batch Size*, *Flattened Image Size*). Shortcut option: you can use classes from the [TensorFlow Layers](https://www.tensorflow.org/api_docs/python/tf/layers) or [TensorFlow Layers (contrib)](https://www.tensorflow.org/api_guides/python/contrib.layers) packages for this layer. For more of a challenge, only use other TensorFlow packages."
   ]
  },
  {
   "cell_type": "code",
   "execution_count": 9,
   "metadata": {
    "collapsed": false,
    "deletable": true,
    "editable": true
   },
   "outputs": [
    {
     "name": "stdout",
     "output_type": "stream",
     "text": [
      "Tests Passed\n"
     ]
    }
   ],
   "source": [
    "def flatten(x_tensor):\n",
    "    \"\"\"\n",
    "    Flatten x_tensor to (Batch Size, Flattened Image Size)\n",
    "    : x_tensor: A tensor of size (Batch Size, ...), where ... are the image dimensions.\n",
    "    : return: A tensor of size (Batch Size, Flattened Image Size).\n",
    "    \"\"\"\n",
    "    # TODO: Implement Function\n",
    "    dat=x_tensor.shape[1].value*x_tensor.shape[2].value*x_tensor.shape[3].value\n",
    "    return tf.reshape(x_tensor,(-1,dat))\n",
    "\n",
    "\n",
    "\"\"\"\n",
    "DON'T MODIFY ANYTHING IN THIS CELL THAT IS BELOW THIS LINE\n",
    "\"\"\"\n",
    "tests.test_flatten(flatten)"
   ]
  },
  {
   "cell_type": "markdown",
   "metadata": {
    "deletable": true,
    "editable": true
   },
   "source": [
    "### Fully-Connected Layer\n",
    "Implement the `fully_conn` function to apply a fully connected layer to `x_tensor` with the shape (*Batch Size*, *num_outputs*). Shortcut option: you can use classes from the [TensorFlow Layers](https://www.tensorflow.org/api_docs/python/tf/layers) or [TensorFlow Layers (contrib)](https://www.tensorflow.org/api_guides/python/contrib.layers) packages for this layer. For more of a challenge, only use other TensorFlow packages."
   ]
  },
  {
   "cell_type": "code",
   "execution_count": 10,
   "metadata": {
    "collapsed": false,
    "deletable": true,
    "editable": true
   },
   "outputs": [
    {
     "name": "stdout",
     "output_type": "stream",
     "text": [
      "Tests Passed\n"
     ]
    }
   ],
   "source": [
    "def fully_conn(x_tensor, num_outputs):\n",
    "    \"\"\"\n",
    "    Apply a fully connected layer to x_tensor using weight and bias\n",
    "    : x_tensor: A 2-D tensor where the first dimension is batch size.\n",
    "    : num_outputs: The number of output that the new tensor should be.\n",
    "    : return: A 2-D tensor where the second dimension is num_outputs.\n",
    "    \"\"\"\n",
    "    dat=x_tensor.shape[1].value\n",
    "    weight=tf.Variable(tf.truncated_normal((dat,num_outputs),stddev=0.1))\n",
    "    bias=tf.Variable(tf.zeros([num_outputs]))\n",
    "    fcn=tf.matmul(x_tensor,weight)\n",
    "    fcn1=tf.add(fcn,bias)\n",
    "    rnt=tf.nn.relu(fcn1)\n",
    "\n",
    "    return rnt\n",
    "\n",
    "\n",
    "\"\"\"\n",
    "DON'T MODIFY ANYTHING IN THIS CELL THAT IS BELOW THIS LINE\n",
    "\"\"\"\n",
    "tests.test_fully_conn(fully_conn)"
   ]
  },
  {
   "cell_type": "markdown",
   "metadata": {
    "deletable": true,
    "editable": true
   },
   "source": [
    "### Output Layer\n",
    "Implement the `output` function to apply a fully connected layer to `x_tensor` with the shape (*Batch Size*, *num_outputs*). Shortcut option: you can use classes from the [TensorFlow Layers](https://www.tensorflow.org/api_docs/python/tf/layers) or [TensorFlow Layers (contrib)](https://www.tensorflow.org/api_guides/python/contrib.layers) packages for this layer. For more of a challenge, only use other TensorFlow packages.\n",
    "\n",
    "**Note:** Activation, softmax, or cross entropy should **not** be applied to this."
   ]
  },
  {
   "cell_type": "code",
   "execution_count": 11,
   "metadata": {
    "collapsed": false,
    "deletable": true,
    "editable": true
   },
   "outputs": [
    {
     "name": "stdout",
     "output_type": "stream",
     "text": [
      "Tests Passed\n"
     ]
    }
   ],
   "source": [
    "def output(x_tensor, num_outputs):\n",
    "    \"\"\"\n",
    "    Apply a output layer to x_tensor using weight and bias\n",
    "    : x_tensor: A 2-D tensor where the first dimension is batch size.\n",
    "    : num_outputs: The number of output that the new tensor should be.\n",
    "    : return: A 2-D tensor where the second dimension is num_outputs.\n",
    "    \"\"\"\n",
    "    dat=x_tensor.shape[1].value\n",
    "\n",
    "    weight=tf.Variable(tf.truncated_normal([dat,num_outputs],stddev=0.1))\n",
    "    bias=tf.Variable(tf.zeros([num_outputs]))\n",
    "    \n",
    "    return tf.add(tf.matmul(x_tensor,weight),bias)\n",
    "\n",
    "\n",
    "\"\"\"\n",
    "DON'T MODIFY ANYTHING IN THIS CELL THAT IS BELOW THIS LINE\n",
    "\"\"\"\n",
    "tests.test_output(output)"
   ]
  },
  {
   "cell_type": "markdown",
   "metadata": {
    "deletable": true,
    "editable": true
   },
   "source": [
    "### Create Convolutional Model\n",
    "Implement the function `conv_net` to create a convolutional neural network model. The function takes in a batch of images, `x`, and outputs logits.  Use the layers you created above to create this model:\n",
    "\n",
    "* Apply 1, 2, or 3 Convolution and Max Pool layers\n",
    "* Apply a Flatten Layer\n",
    "* Apply 1, 2, or 3 Fully Connected Layers\n",
    "* Apply an Output Layer\n",
    "* Return the output\n",
    "* Apply [TensorFlow's Dropout](https://www.tensorflow.org/api_docs/python/tf/nn/dropout) to one or more layers in the model using `keep_prob`. "
   ]
  },
  {
   "cell_type": "code",
   "execution_count": 12,
   "metadata": {
    "collapsed": false,
    "deletable": true,
    "editable": true
   },
   "outputs": [
    {
     "name": "stdout",
     "output_type": "stream",
     "text": [
      "Neural Network Built!\n"
     ]
    }
   ],
   "source": [
    "def conv_net(x, keep_prob):\n",
    "    \"\"\"\n",
    "    Create a convolutional neural network model\n",
    "    : x: Placeholder tensor that holds image data.\n",
    "    : keep_prob: Placeholder tensor that hold dropout keep probability.\n",
    "    : return: Tensor that represents logits\n",
    "    \"\"\"\n",
    "    # TODO: Apply 1, 2, or 3 Convolution and Max Pool layers\n",
    "    #    Play around with different number of outputs, kernel size and stride\n",
    "    # Function Definition from Above:\n",
    "    #conv2d_maxpool(x,conv_num_outputs, conv_ksize, conv_strides, pool_ksize, pool_strides)\n",
    "    \n",
    "    var_in= conv2d_maxpool(x, 32, (4,4),(1,1), (2,2), (2,2))\n",
    "    var_in= conv2d_maxpool(x, 64, (4,4),(1,1), (2,2), (2,2))\n",
    "    var_in= conv2d_maxpool(x, 128,(4,4),(1,1),(2,2),(2,2))\n",
    "    \n",
    "    \n",
    "    # TODO: Apply a Flatten Layer\n",
    "    # Function Definition from Above:\n",
    "    # flatten(x_tensor)\n",
    "    var_in= flatten(var_in)\n",
    "    # TODO: Apply 1, 2, or 3 Fully Connected Layers\n",
    "    #    Play around with different number of outputs\n",
    "    # Function Definition from Above:\n",
    "    #fully_conn(x, num_outputs)\n",
    "    \n",
    "    var_in=fully_conn(var_in,200)\n",
    "    var_in=tf.nn.dropout(var_in,keep_prob)\n",
    "    \n",
    "    # TODO: Apply an Output Layer\n",
    "    #    Set this to the number of classes\n",
    "    # Function Definition from Above:\n",
    "    #output(x, num_outputs)\n",
    "    var_in=output(var_in,10)\n",
    "    out=var_in\n",
    "    # TODO: return output\n",
    "    return out\n",
    "\n",
    "\n",
    "\"\"\"\n",
    "DON'T MODIFY ANYTHING IN THIS CELL THAT IS BELOW THIS LINE\n",
    "\"\"\"\n",
    "\n",
    "##############################\n",
    "## Build the Neural Network ##\n",
    "##############################\n",
    "\n",
    "# Remove previous weights, bias, inputs, etc..\n",
    "tf.reset_default_graph()\n",
    "\n",
    "# Inputs\n",
    "x = neural_net_image_input((32, 32, 3))\n",
    "y = neural_net_label_input(10)\n",
    "keep_prob = neural_net_keep_prob_input()\n",
    "\n",
    "# Model\n",
    "logits = conv_net(x, keep_prob)\n",
    "\n",
    "# Name logits Tensor, so that is can be loaded from disk after training\n",
    "logits = tf.identity(logits, name='logits')\n",
    "\n",
    "# Loss and Optimizer\n",
    "cost = tf.reduce_mean(tf.nn.softmax_cross_entropy_with_logits(logits=logits, labels=y))\n",
    "optimizer = tf.train.AdamOptimizer().minimize(cost)\n",
    "\n",
    "# Accuracy\n",
    "correct_pred = tf.equal(tf.argmax(logits, 1), tf.argmax(y, 1))\n",
    "accuracy = tf.reduce_mean(tf.cast(correct_pred, tf.float32), name='accuracy')\n",
    "\n",
    "tests.test_conv_net(conv_net)"
   ]
  },
  {
   "cell_type": "markdown",
   "metadata": {
    "deletable": true,
    "editable": true
   },
   "source": [
    "## Train the Neural Network\n",
    "### Single Optimization\n",
    "Implement the function `train_neural_network` to do a single optimization.  The optimization should use `optimizer` to optimize in `session` with a `feed_dict` of the following:\n",
    "* `x` for image input\n",
    "* `y` for labels\n",
    "* `keep_prob` for keep probability for dropout\n",
    "\n",
    "This function will be called for each batch, so `tf.global_variables_initializer()` has already been called.\n",
    "\n",
    "Note: Nothing needs to be returned. This function is only optimizing the neural network."
   ]
  },
  {
   "cell_type": "code",
   "execution_count": 13,
   "metadata": {
    "collapsed": false,
    "deletable": true,
    "editable": true
   },
   "outputs": [
    {
     "name": "stdout",
     "output_type": "stream",
     "text": [
      "Tests Passed\n"
     ]
    }
   ],
   "source": [
    "def train_neural_network(session, optimizer, keep_probability, feature_batch, label_batch):\n",
    "    \"\"\"\n",
    "    Optimize the session on a batch of images and labels\n",
    "    : session: Current TensorFlow session\n",
    "    : optimizer: TensorFlow optimizer function\n",
    "    : keep_probability: keep probability\n",
    "    : feature_batch: Batch of Numpy image data\n",
    "    : label_batch: Batch of Numpy label data\n",
    "    \"\"\"\n",
    "    session.run(optimizer,feed_dict={keep_prob:keep_probability,x:feature_batch,y:label_batch})\n",
    "    \n",
    "\n",
    "\n",
    "\"\"\"\n",
    "DON'T MODIFY ANYTHING IN THIS CELL THAT IS BELOW THIS LINE\n",
    "\"\"\"\n",
    "tests.test_train_nn(train_neural_network)"
   ]
  },
  {
   "cell_type": "markdown",
   "metadata": {
    "deletable": true,
    "editable": true
   },
   "source": [
    "### Show Stats\n",
    "Implement the function `print_stats` to print loss and validation accuracy.  Use the global variables `valid_features` and `valid_labels` to calculate validation accuracy.  Use a keep probability of `1.0` to calculate the loss and validation accuracy."
   ]
  },
  {
   "cell_type": "code",
   "execution_count": 14,
   "metadata": {
    "collapsed": false,
    "deletable": true,
    "editable": true
   },
   "outputs": [],
   "source": [
    "def print_stats(session, feature_batch, label_batch, cost, accuracy):\n",
    "    \"\"\"\n",
    "    Print information about loss and validation accuracy\n",
    "    : session: Current TensorFlow session\n",
    "    : feature_batch: Batch of Numpy image data\n",
    "    : label_batch: Batch of Numpy label data\n",
    "    : cost: TensorFlow cost function\n",
    "    : accuracy: TensorFlow accuracy function\n",
    "    \"\"\"\n",
    "    # TODO: Implement Function\n",
    "    loss = session.run(cost, feed_dict = {x: feature_batch, y: label_batch, keep_prob: 1.})\n",
    "    validation_accuracy = session.run(accuracy, \n",
    "                                      feed_dict = {x: valid_features, y: valid_labels, keep_prob: 1.})\n",
    "    \n",
    "    print(\"loss: %s; Validation_accuracy: %s\" % (loss, validation_accuracy))\n",
    "    \n",
    "    pass"
   ]
  },
  {
   "cell_type": "markdown",
   "metadata": {
    "deletable": true,
    "editable": true
   },
   "source": [
    "### Hyperparameters\n",
    "Tune the following parameters:\n",
    "* Set `epochs` to the number of iterations until the network stops learning or start overfitting\n",
    "* Set `batch_size` to the highest number that your machine has memory for.  Most people set them to common sizes of memory:\n",
    " * 64\n",
    " * 128\n",
    " * 256\n",
    " * ...\n",
    "* Set `keep_probability` to the probability of keeping a node using dropout"
   ]
  },
  {
   "cell_type": "code",
   "execution_count": 15,
   "metadata": {
    "collapsed": true,
    "deletable": true,
    "editable": true
   },
   "outputs": [],
   "source": [
    "# TODO: Tune Parameters\n",
    "epochs = 30\n",
    "batch_size = 256\n",
    "keep_probability = 0.5"
   ]
  },
  {
   "cell_type": "markdown",
   "metadata": {
    "deletable": true,
    "editable": true
   },
   "source": [
    "### Train on a Single CIFAR-10 Batch\n",
    "Instead of training the neural network on all the CIFAR-10 batches of data, let's use a single batch. This should save time while you iterate on the model to get a better accuracy.  Once the final validation accuracy is 50% or greater, run the model on all the data in the next section."
   ]
  },
  {
   "cell_type": "code",
   "execution_count": 16,
   "metadata": {
    "collapsed": false,
    "deletable": true,
    "editable": true
   },
   "outputs": [
    {
     "name": "stdout",
     "output_type": "stream",
     "text": [
      "Checking the Training on a Single Batch...\n",
      "Epoch  1, CIFAR-10 Batch 1:  loss: 2.21375; Validation_accuracy: 0.245\n",
      "Epoch  2, CIFAR-10 Batch 1:  loss: 2.03436; Validation_accuracy: 0.3248\n",
      "Epoch  3, CIFAR-10 Batch 1:  loss: 1.8887; Validation_accuracy: 0.3578\n",
      "Epoch  4, CIFAR-10 Batch 1:  loss: 1.78121; Validation_accuracy: 0.4082\n",
      "Epoch  5, CIFAR-10 Batch 1:  loss: 1.66462; Validation_accuracy: 0.4276\n",
      "Epoch  6, CIFAR-10 Batch 1:  loss: 1.52201; Validation_accuracy: 0.4416\n",
      "Epoch  7, CIFAR-10 Batch 1:  loss: 1.38981; Validation_accuracy: 0.4572\n",
      "Epoch  8, CIFAR-10 Batch 1:  loss: 1.21247; Validation_accuracy: 0.4692\n",
      "Epoch  9, CIFAR-10 Batch 1:  loss: 1.14996; Validation_accuracy: 0.476\n",
      "Epoch 10, CIFAR-10 Batch 1:  loss: 1.04921; Validation_accuracy: 0.4996\n",
      "Epoch 11, CIFAR-10 Batch 1:  loss: 1.03164; Validation_accuracy: 0.4914\n",
      "Epoch 12, CIFAR-10 Batch 1:  loss: 0.93082; Validation_accuracy: 0.5016\n",
      "Epoch 13, CIFAR-10 Batch 1:  loss: 0.869066; Validation_accuracy: 0.5174\n",
      "Epoch 14, CIFAR-10 Batch 1:  loss: 0.78076; Validation_accuracy: 0.5172\n",
      "Epoch 15, CIFAR-10 Batch 1:  loss: 0.768179; Validation_accuracy: 0.5172\n",
      "Epoch 16, CIFAR-10 Batch 1:  loss: 0.690562; Validation_accuracy: 0.52\n",
      "Epoch 17, CIFAR-10 Batch 1:  loss: 0.629478; Validation_accuracy: 0.5212\n",
      "Epoch 18, CIFAR-10 Batch 1:  loss: 0.629621; Validation_accuracy: 0.5142\n",
      "Epoch 19, CIFAR-10 Batch 1:  loss: 0.561272; Validation_accuracy: 0.5326\n",
      "Epoch 20, CIFAR-10 Batch 1:  loss: 0.500881; Validation_accuracy: 0.5252\n",
      "Epoch 21, CIFAR-10 Batch 1:  loss: 0.4948; Validation_accuracy: 0.531\n",
      "Epoch 22, CIFAR-10 Batch 1:  loss: 0.481865; Validation_accuracy: 0.5348\n",
      "Epoch 23, CIFAR-10 Batch 1:  loss: 0.460435; Validation_accuracy: 0.5334\n",
      "Epoch 24, CIFAR-10 Batch 1:  loss: 0.398096; Validation_accuracy: 0.5416\n",
      "Epoch 25, CIFAR-10 Batch 1:  loss: 0.346776; Validation_accuracy: 0.5528\n",
      "Epoch 26, CIFAR-10 Batch 1:  loss: 0.322044; Validation_accuracy: 0.5536\n",
      "Epoch 27, CIFAR-10 Batch 1:  loss: 0.306713; Validation_accuracy: 0.5512\n",
      "Epoch 28, CIFAR-10 Batch 1:  loss: 0.284455; Validation_accuracy: 0.5554\n",
      "Epoch 29, CIFAR-10 Batch 1:  loss: 0.261546; Validation_accuracy: 0.556\n",
      "Epoch 30, CIFAR-10 Batch 1:  loss: 0.224273; Validation_accuracy: 0.5568\n"
     ]
    }
   ],
   "source": [
    "\"\"\"\n",
    "DON'T MODIFY ANYTHING IN THIS CELL\n",
    "\"\"\"\n",
    "print('Checking the Training on a Single Batch...')\n",
    "with tf.Session() as sess:\n",
    "    # Initializing the variables\n",
    "    sess.run(tf.global_variables_initializer())\n",
    "    \n",
    "    # Training cycle\n",
    "    for epoch in range(epochs):\n",
    "        batch_i = 1\n",
    "        for batch_features, batch_labels in helper.load_preprocess_training_batch(batch_i, batch_size):\n",
    "            train_neural_network(sess, optimizer, keep_probability, batch_features, batch_labels)\n",
    "        print('Epoch {:>2}, CIFAR-10 Batch {}:  '.format(epoch + 1, batch_i), end='')\n",
    "        print_stats(sess, batch_features, batch_labels, cost, accuracy)"
   ]
  },
  {
   "cell_type": "markdown",
   "metadata": {
    "deletable": true,
    "editable": true
   },
   "source": [
    "### Fully Train the Model\n",
    "Now that you got a good accuracy with a single CIFAR-10 batch, try it with all five batches."
   ]
  },
  {
   "cell_type": "code",
   "execution_count": 17,
   "metadata": {
    "collapsed": false,
    "deletable": true,
    "editable": true
   },
   "outputs": [
    {
     "name": "stdout",
     "output_type": "stream",
     "text": [
      "Training...\n",
      "Epoch  1, CIFAR-10 Batch 1:  loss: 2.17492; Validation_accuracy: 0.1978\n",
      "Epoch  1, CIFAR-10 Batch 2:  loss: 1.92951; Validation_accuracy: 0.275\n",
      "Epoch  1, CIFAR-10 Batch 3:  loss: 1.8748; Validation_accuracy: 0.303\n",
      "Epoch  1, CIFAR-10 Batch 4:  loss: 1.93007; Validation_accuracy: 0.358\n",
      "Epoch  1, CIFAR-10 Batch 5:  loss: 1.84499; Validation_accuracy: 0.3628\n",
      "Epoch  2, CIFAR-10 Batch 1:  loss: 1.92453; Validation_accuracy: 0.3862\n",
      "Epoch  2, CIFAR-10 Batch 2:  loss: 1.68086; Validation_accuracy: 0.4198\n",
      "Epoch  2, CIFAR-10 Batch 3:  loss: 1.47547; Validation_accuracy: 0.4214\n",
      "Epoch  2, CIFAR-10 Batch 4:  loss: 1.62275; Validation_accuracy: 0.446\n",
      "Epoch  2, CIFAR-10 Batch 5:  loss: 1.59853; Validation_accuracy: 0.4642\n",
      "Epoch  3, CIFAR-10 Batch 1:  loss: 1.64997; Validation_accuracy: 0.4794\n",
      "Epoch  3, CIFAR-10 Batch 2:  loss: 1.48805; Validation_accuracy: 0.4976\n",
      "Epoch  3, CIFAR-10 Batch 3:  loss: 1.2969; Validation_accuracy: 0.4644\n",
      "Epoch  3, CIFAR-10 Batch 4:  loss: 1.47369; Validation_accuracy: 0.4908\n",
      "Epoch  3, CIFAR-10 Batch 5:  loss: 1.4153; Validation_accuracy: 0.484\n",
      "Epoch  4, CIFAR-10 Batch 1:  loss: 1.43307; Validation_accuracy: 0.5054\n",
      "Epoch  4, CIFAR-10 Batch 2:  loss: 1.2641; Validation_accuracy: 0.5054\n",
      "Epoch  4, CIFAR-10 Batch 3:  loss: 1.09182; Validation_accuracy: 0.5204\n",
      "Epoch  4, CIFAR-10 Batch 4:  loss: 1.31193; Validation_accuracy: 0.5098\n",
      "Epoch  4, CIFAR-10 Batch 5:  loss: 1.27001; Validation_accuracy: 0.5292\n",
      "Epoch  5, CIFAR-10 Batch 1:  loss: 1.26481; Validation_accuracy: 0.514\n",
      "Epoch  5, CIFAR-10 Batch 2:  loss: 1.19186; Validation_accuracy: 0.5444\n",
      "Epoch  5, CIFAR-10 Batch 3:  loss: 0.935383; Validation_accuracy: 0.545\n",
      "Epoch  5, CIFAR-10 Batch 4:  loss: 1.1334; Validation_accuracy: 0.5462\n",
      "Epoch  5, CIFAR-10 Batch 5:  loss: 1.16417; Validation_accuracy: 0.5356\n",
      "Epoch  6, CIFAR-10 Batch 1:  loss: 1.15687; Validation_accuracy: 0.5486\n",
      "Epoch  6, CIFAR-10 Batch 2:  loss: 1.08522; Validation_accuracy: 0.5474\n",
      "Epoch  6, CIFAR-10 Batch 3:  loss: 0.887892; Validation_accuracy: 0.5534\n",
      "Epoch  6, CIFAR-10 Batch 4:  loss: 1.05329; Validation_accuracy: 0.556\n",
      "Epoch  6, CIFAR-10 Batch 5:  loss: 1.05101; Validation_accuracy: 0.5652\n",
      "Epoch  7, CIFAR-10 Batch 1:  loss: 1.00265; Validation_accuracy: 0.5774\n",
      "Epoch  7, CIFAR-10 Batch 2:  loss: 0.977273; Validation_accuracy: 0.5762\n",
      "Epoch  7, CIFAR-10 Batch 3:  loss: 0.794691; Validation_accuracy: 0.5688\n",
      "Epoch  7, CIFAR-10 Batch 4:  loss: 0.955606; Validation_accuracy: 0.5732\n",
      "Epoch  7, CIFAR-10 Batch 5:  loss: 0.908449; Validation_accuracy: 0.5716\n",
      "Epoch  8, CIFAR-10 Batch 1:  loss: 0.969674; Validation_accuracy: 0.57\n",
      "Epoch  8, CIFAR-10 Batch 2:  loss: 0.874479; Validation_accuracy: 0.5792\n",
      "Epoch  8, CIFAR-10 Batch 3:  loss: 0.70092; Validation_accuracy: 0.5844\n",
      "Epoch  8, CIFAR-10 Batch 4:  loss: 0.907694; Validation_accuracy: 0.5734\n",
      "Epoch  8, CIFAR-10 Batch 5:  loss: 0.829815; Validation_accuracy: 0.5696\n",
      "Epoch  9, CIFAR-10 Batch 1:  loss: 0.880371; Validation_accuracy: 0.579\n",
      "Epoch  9, CIFAR-10 Batch 2:  loss: 0.799912; Validation_accuracy: 0.594\n",
      "Epoch  9, CIFAR-10 Batch 3:  loss: 0.678216; Validation_accuracy: 0.587\n",
      "Epoch  9, CIFAR-10 Batch 4:  loss: 0.828759; Validation_accuracy: 0.5888\n",
      "Epoch  9, CIFAR-10 Batch 5:  loss: 0.753596; Validation_accuracy: 0.6002\n",
      "Epoch 10, CIFAR-10 Batch 1:  loss: 0.855333; Validation_accuracy: 0.601\n",
      "Epoch 10, CIFAR-10 Batch 2:  loss: 0.759229; Validation_accuracy: 0.6028\n",
      "Epoch 10, CIFAR-10 Batch 3:  loss: 0.617842; Validation_accuracy: 0.598\n",
      "Epoch 10, CIFAR-10 Batch 4:  loss: 0.766216; Validation_accuracy: 0.6074\n",
      "Epoch 10, CIFAR-10 Batch 5:  loss: 0.698818; Validation_accuracy: 0.5998\n",
      "Epoch 11, CIFAR-10 Batch 1:  loss: 0.789664; Validation_accuracy: 0.5946\n",
      "Epoch 11, CIFAR-10 Batch 2:  loss: 0.710273; Validation_accuracy: 0.585\n",
      "Epoch 11, CIFAR-10 Batch 3:  loss: 0.630367; Validation_accuracy: 0.605\n",
      "Epoch 11, CIFAR-10 Batch 4:  loss: 0.731164; Validation_accuracy: 0.6134\n",
      "Epoch 11, CIFAR-10 Batch 5:  loss: 0.639085; Validation_accuracy: 0.6142\n",
      "Epoch 12, CIFAR-10 Batch 1:  loss: 0.751462; Validation_accuracy: 0.6016\n",
      "Epoch 12, CIFAR-10 Batch 2:  loss: 0.582519; Validation_accuracy: 0.6054\n",
      "Epoch 12, CIFAR-10 Batch 3:  loss: 0.529361; Validation_accuracy: 0.606\n",
      "Epoch 12, CIFAR-10 Batch 4:  loss: 0.675065; Validation_accuracy: 0.6184\n",
      "Epoch 12, CIFAR-10 Batch 5:  loss: 0.609277; Validation_accuracy: 0.6126\n",
      "Epoch 13, CIFAR-10 Batch 1:  loss: 0.68244; Validation_accuracy: 0.6136\n",
      "Epoch 13, CIFAR-10 Batch 2:  loss: 0.558477; Validation_accuracy: 0.5924\n",
      "Epoch 13, CIFAR-10 Batch 3:  loss: 0.479475; Validation_accuracy: 0.6144\n",
      "Epoch 13, CIFAR-10 Batch 4:  loss: 0.634167; Validation_accuracy: 0.61\n",
      "Epoch 13, CIFAR-10 Batch 5:  loss: 0.571046; Validation_accuracy: 0.6212\n",
      "Epoch 14, CIFAR-10 Batch 1:  loss: 0.651136; Validation_accuracy: 0.6108\n",
      "Epoch 14, CIFAR-10 Batch 2:  loss: 0.491504; Validation_accuracy: 0.623\n",
      "Epoch 14, CIFAR-10 Batch 3:  loss: 0.444738; Validation_accuracy: 0.6184\n",
      "Epoch 14, CIFAR-10 Batch 4:  loss: 0.581735; Validation_accuracy: 0.625\n",
      "Epoch 14, CIFAR-10 Batch 5:  loss: 0.549774; Validation_accuracy: 0.6174\n",
      "Epoch 15, CIFAR-10 Batch 1:  loss: 0.586177; Validation_accuracy: 0.6196\n",
      "Epoch 15, CIFAR-10 Batch 2:  loss: 0.480429; Validation_accuracy: 0.6156\n",
      "Epoch 15, CIFAR-10 Batch 3:  loss: 0.399973; Validation_accuracy: 0.624\n",
      "Epoch 15, CIFAR-10 Batch 4:  loss: 0.539826; Validation_accuracy: 0.62\n",
      "Epoch 15, CIFAR-10 Batch 5:  loss: 0.512536; Validation_accuracy: 0.6314\n",
      "Epoch 16, CIFAR-10 Batch 1:  loss: 0.577619; Validation_accuracy: 0.6238\n",
      "Epoch 16, CIFAR-10 Batch 2:  loss: 0.429181; Validation_accuracy: 0.627\n",
      "Epoch 16, CIFAR-10 Batch 3:  loss: 0.385625; Validation_accuracy: 0.6276\n",
      "Epoch 16, CIFAR-10 Batch 4:  loss: 0.506159; Validation_accuracy: 0.6208\n",
      "Epoch 16, CIFAR-10 Batch 5:  loss: 0.474761; Validation_accuracy: 0.6324\n",
      "Epoch 17, CIFAR-10 Batch 1:  loss: 0.631441; Validation_accuracy: 0.613\n",
      "Epoch 17, CIFAR-10 Batch 2:  loss: 0.435127; Validation_accuracy: 0.6144\n",
      "Epoch 17, CIFAR-10 Batch 3:  loss: 0.40692; Validation_accuracy: 0.6312\n",
      "Epoch 17, CIFAR-10 Batch 4:  loss: 0.509665; Validation_accuracy: 0.6248\n",
      "Epoch 17, CIFAR-10 Batch 5:  loss: 0.430123; Validation_accuracy: 0.6384\n",
      "Epoch 18, CIFAR-10 Batch 1:  loss: 0.53997; Validation_accuracy: 0.631\n",
      "Epoch 18, CIFAR-10 Batch 2:  loss: 0.382479; Validation_accuracy: 0.623\n",
      "Epoch 18, CIFAR-10 Batch 3:  loss: 0.341451; Validation_accuracy: 0.6402\n",
      "Epoch 18, CIFAR-10 Batch 4:  loss: 0.461423; Validation_accuracy: 0.6382\n",
      "Epoch 18, CIFAR-10 Batch 5:  loss: 0.389578; Validation_accuracy: 0.6348\n",
      "Epoch 19, CIFAR-10 Batch 1:  loss: 0.482725; Validation_accuracy: 0.6408\n",
      "Epoch 19, CIFAR-10 Batch 2:  loss: 0.371204; Validation_accuracy: 0.6142\n",
      "Epoch 19, CIFAR-10 Batch 3:  loss: 0.344086; Validation_accuracy: 0.629\n",
      "Epoch 19, CIFAR-10 Batch 4:  loss: 0.433896; Validation_accuracy: 0.6398\n",
      "Epoch 19, CIFAR-10 Batch 5:  loss: 0.381265; Validation_accuracy: 0.6352\n",
      "Epoch 20, CIFAR-10 Batch 1:  loss: 0.508528; Validation_accuracy: 0.6216\n",
      "Epoch 20, CIFAR-10 Batch 2:  loss: 0.328867; Validation_accuracy: 0.639\n",
      "Epoch 20, CIFAR-10 Batch 3:  loss: 0.307643; Validation_accuracy: 0.6414\n",
      "Epoch 20, CIFAR-10 Batch 4:  loss: 0.42882; Validation_accuracy: 0.6424\n",
      "Epoch 20, CIFAR-10 Batch 5:  loss: 0.347218; Validation_accuracy: 0.6444\n",
      "Epoch 21, CIFAR-10 Batch 1:  loss: 0.470196; Validation_accuracy: 0.6386\n",
      "Epoch 21, CIFAR-10 Batch 2:  loss: 0.332077; Validation_accuracy: 0.6286\n",
      "Epoch 21, CIFAR-10 Batch 3:  loss: 0.290645; Validation_accuracy: 0.6344\n",
      "Epoch 21, CIFAR-10 Batch 4:  loss: 0.368486; Validation_accuracy: 0.64\n",
      "Epoch 21, CIFAR-10 Batch 5:  loss: 0.334064; Validation_accuracy: 0.648\n",
      "Epoch 22, CIFAR-10 Batch 1:  loss: 0.426718; Validation_accuracy: 0.633\n",
      "Epoch 22, CIFAR-10 Batch 2:  loss: 0.328797; Validation_accuracy: 0.6358\n",
      "Epoch 22, CIFAR-10 Batch 3:  loss: 0.255803; Validation_accuracy: 0.6308\n",
      "Epoch 22, CIFAR-10 Batch 4:  loss: 0.352568; Validation_accuracy: 0.6376\n",
      "Epoch 22, CIFAR-10 Batch 5:  loss: 0.352044; Validation_accuracy: 0.6462\n",
      "Epoch 23, CIFAR-10 Batch 1:  loss: 0.416918; Validation_accuracy: 0.6372\n",
      "Epoch 23, CIFAR-10 Batch 2:  loss: 0.282207; Validation_accuracy: 0.6402\n",
      "Epoch 23, CIFAR-10 Batch 3:  loss: 0.218099; Validation_accuracy: 0.6278\n",
      "Epoch 23, CIFAR-10 Batch 4:  loss: 0.34846; Validation_accuracy: 0.6316\n",
      "Epoch 23, CIFAR-10 Batch 5:  loss: 0.297163; Validation_accuracy: 0.647\n",
      "Epoch 24, CIFAR-10 Batch 1:  loss: 0.377246; Validation_accuracy: 0.6458\n",
      "Epoch 24, CIFAR-10 Batch 2:  loss: 0.264732; Validation_accuracy: 0.6428\n",
      "Epoch 24, CIFAR-10 Batch 3:  loss: 0.227951; Validation_accuracy: 0.6444\n",
      "Epoch 24, CIFAR-10 Batch 4:  loss: 0.291638; Validation_accuracy: 0.6418\n",
      "Epoch 24, CIFAR-10 Batch 5:  loss: 0.271535; Validation_accuracy: 0.6468\n",
      "Epoch 25, CIFAR-10 Batch 1:  loss: 0.367324; Validation_accuracy: 0.6448\n",
      "Epoch 25, CIFAR-10 Batch 2:  loss: 0.207337; Validation_accuracy: 0.6394\n",
      "Epoch 25, CIFAR-10 Batch 3:  loss: 0.207754; Validation_accuracy: 0.6424\n",
      "Epoch 25, CIFAR-10 Batch 4:  loss: 0.274637; Validation_accuracy: 0.6456\n",
      "Epoch 25, CIFAR-10 Batch 5:  loss: 0.295209; Validation_accuracy: 0.6444\n",
      "Epoch 26, CIFAR-10 Batch 1:  loss: 0.323242; Validation_accuracy: 0.6506\n",
      "Epoch 26, CIFAR-10 Batch 2:  loss: 0.218997; Validation_accuracy: 0.6432\n",
      "Epoch 26, CIFAR-10 Batch 3:  loss: 0.182592; Validation_accuracy: 0.6446\n",
      "Epoch 26, CIFAR-10 Batch 4:  loss: 0.266489; Validation_accuracy: 0.653\n",
      "Epoch 26, CIFAR-10 Batch 5:  loss: 0.233689; Validation_accuracy: 0.6494\n",
      "Epoch 27, CIFAR-10 Batch 1:  loss: 0.326729; Validation_accuracy: 0.6456\n",
      "Epoch 27, CIFAR-10 Batch 2:  loss: 0.224788; Validation_accuracy: 0.65\n",
      "Epoch 27, CIFAR-10 Batch 3:  loss: 0.189739; Validation_accuracy: 0.6414\n",
      "Epoch 27, CIFAR-10 Batch 4:  loss: 0.24201; Validation_accuracy: 0.6552\n",
      "Epoch 27, CIFAR-10 Batch 5:  loss: 0.225771; Validation_accuracy: 0.6552\n",
      "Epoch 28, CIFAR-10 Batch 1:  loss: 0.292455; Validation_accuracy: 0.6506\n",
      "Epoch 28, CIFAR-10 Batch 2:  loss: 0.203522; Validation_accuracy: 0.6492\n",
      "Epoch 28, CIFAR-10 Batch 3:  loss: 0.171758; Validation_accuracy: 0.6466\n",
      "Epoch 28, CIFAR-10 Batch 4:  loss: 0.23412; Validation_accuracy: 0.6454\n",
      "Epoch 28, CIFAR-10 Batch 5:  loss: 0.195696; Validation_accuracy: 0.6532\n",
      "Epoch 29, CIFAR-10 Batch 1:  loss: 0.284917; Validation_accuracy: 0.6542\n",
      "Epoch 29, CIFAR-10 Batch 2:  loss: 0.177139; Validation_accuracy: 0.6518\n",
      "Epoch 29, CIFAR-10 Batch 3:  loss: 0.139654; Validation_accuracy: 0.6542\n",
      "Epoch 29, CIFAR-10 Batch 4:  loss: 0.219717; Validation_accuracy: 0.6514\n",
      "Epoch 29, CIFAR-10 Batch 5:  loss: 0.167174; Validation_accuracy: 0.6646\n",
      "Epoch 30, CIFAR-10 Batch 1:  loss: 0.274315; Validation_accuracy: 0.65\n",
      "Epoch 30, CIFAR-10 Batch 2:  loss: 0.150676; Validation_accuracy: 0.654\n",
      "Epoch 30, CIFAR-10 Batch 3:  loss: 0.141848; Validation_accuracy: 0.6542\n",
      "Epoch 30, CIFAR-10 Batch 4:  loss: 0.221965; Validation_accuracy: 0.6454\n",
      "Epoch 30, CIFAR-10 Batch 5:  loss: 0.187032; Validation_accuracy: 0.6498\n"
     ]
    }
   ],
   "source": [
    "\"\"\"\n",
    "DON'T MODIFY ANYTHING IN THIS CELL\n",
    "\"\"\"\n",
    "save_model_path = './image_classification'\n",
    "\n",
    "print('Training...')\n",
    "with tf.Session() as sess:\n",
    "    # Initializing the variables\n",
    "    sess.run(tf.global_variables_initializer())\n",
    "    \n",
    "    # Training cycle\n",
    "    for epoch in range(epochs):\n",
    "        # Loop over all batches\n",
    "        n_batches = 5\n",
    "        for batch_i in range(1, n_batches + 1):\n",
    "            for batch_features, batch_labels in helper.load_preprocess_training_batch(batch_i, batch_size):\n",
    "                train_neural_network(sess, optimizer, keep_probability, batch_features, batch_labels)\n",
    "            print('Epoch {:>2}, CIFAR-10 Batch {}:  '.format(epoch + 1, batch_i), end='')\n",
    "            print_stats(sess, batch_features, batch_labels, cost, accuracy)\n",
    "            \n",
    "    # Save Model\n",
    "    saver = tf.train.Saver()\n",
    "    save_path = saver.save(sess, save_model_path)"
   ]
  },
  {
   "cell_type": "markdown",
   "metadata": {
    "deletable": true,
    "editable": true
   },
   "source": [
    "# Checkpoint\n",
    "The model has been saved to disk.\n",
    "## Test Model\n",
    "Test your model against the test dataset.  This will be your final accuracy. You should have an accuracy greater than 50%. If you don't, keep tweaking the model architecture and parameters."
   ]
  },
  {
   "cell_type": "code",
   "execution_count": 18,
   "metadata": {
    "collapsed": false,
    "deletable": true,
    "editable": true
   },
   "outputs": [
    {
     "name": "stdout",
     "output_type": "stream",
     "text": [
      "Testing Accuracy: 0.64775390625\n",
      "\n"
     ]
    },
    {
     "data": {
      "image/png": "[encoded data removed]",
      "text/plain": [
       "<matplotlib.figure.Figure at 0x7f2ffdf028d0>"
      ]
     },
     "metadata": {
      "image/png": {
       "height": 319,
       "width": 355
      }
     },
     "output_type": "display_data"
    }
   ],
   "source": [
    "\"\"\"\n",
    "DON'T MODIFY ANYTHING IN THIS CELL\n",
    "\"\"\"\n",
    "%matplotlib inline\n",
    "%config InlineBackend.figure_format = 'retina'\n",
    "\n",
    "import tensorflow as tf\n",
    "import pickle\n",
    "import helper\n",
    "import random\n",
    "\n",
    "# Set batch size if not already set\n",
    "try:\n",
    "    if batch_size:\n",
    "        pass\n",
    "except NameError:\n",
    "    batch_size = 64\n",
    "\n",
    "save_model_path = './image_classification'\n",
    "n_samples = 4\n",
    "top_n_predictions = 3\n",
    "\n",
    "def test_model():\n",
    "    \"\"\"\n",
    "    Test the saved model against the test dataset\n",
    "    \"\"\"\n",
    "\n",
    "    test_features, test_labels = pickle.load(open('preprocess_training.p', mode='rb'))\n",
    "    loaded_graph = tf.Graph()\n",
    "\n",
    "    with tf.Session(graph=loaded_graph) as sess:\n",
    "        # Load model\n",
    "        loader = tf.train.import_meta_graph(save_model_path + '.meta')\n",
    "        loader.restore(sess, save_model_path)\n",
    "\n",
    "        # Get Tensors from loaded model\n",
    "        loaded_x = loaded_graph.get_tensor_by_name('x:0')\n",
    "        loaded_y = loaded_graph.get_tensor_by_name('y:0')\n",
    "        loaded_keep_prob = loaded_graph.get_tensor_by_name('keep_prob:0')\n",
    "        loaded_logits = loaded_graph.get_tensor_by_name('logits:0')\n",
    "        loaded_acc = loaded_graph.get_tensor_by_name('accuracy:0')\n",
    "        \n",
    "        # Get accuracy in batches for memory limitations\n",
    "        test_batch_acc_total = 0\n",
    "        test_batch_count = 0\n",
    "        \n",
    "        for train_feature_batch, train_label_batch in helper.batch_features_labels(test_features, test_labels, batch_size):\n",
    "            test_batch_acc_total += sess.run(\n",
    "                loaded_acc,\n",
    "                feed_dict={loaded_x: train_feature_batch, loaded_y: train_label_batch, loaded_keep_prob: 1.0})\n",
    "            test_batch_count += 1\n",
    "\n",
    "        print('Testing Accuracy: {}\\n'.format(test_batch_acc_total/test_batch_count))\n",
    "\n",
    "        # Print Random Samples\n",
    "        random_test_features, random_test_labels = tuple(zip(*random.sample(list(zip(test_features, test_labels)), n_samples)))\n",
    "        random_test_predictions = sess.run(\n",
    "            tf.nn.top_k(tf.nn.softmax(loaded_logits), top_n_predictions),\n",
    "            feed_dict={loaded_x: random_test_features, loaded_y: random_test_labels, loaded_keep_prob: 1.0})\n",
    "        helper.display_image_predictions(random_test_features, random_test_labels, random_test_predictions)\n",
    "\n",
    "\n",
    "test_model()"
   ]
  },
  {
   "cell_type": "markdown",
   "metadata": {
    "deletable": true,
    "editable": true
   },
   "source": [
    "## Why 50-80% Accuracy?\n",
    "You might be wondering why you can't get an accuracy any higher. First things first, 50% isn't bad for a simple CNN.  Pure guessing would get you 10% accuracy. That's because there are many more techniques that can be applied to your model and we recemmond that once you are done with this project, you explore!\n",
    "\n",
    "## Submitting This Project\n",
    "When submitting this project, make sure to run all the cells before saving the notebook.  Save the notebook file as \"image_classification.ipynb\" and save it as a HTML file under \"File\" -> \"Download as\".  Include the \"helper.py\" and \"problem_unittests.py\" files in your submission."
   ]
  }
 ],
 "metadata": {
  "anaconda-cloud": {},
  "kernelspec": {
   "display_name": "Python 3",
   "language": "python",
   "name": "python3"
  },
  "language_info": {
   "codemirror_mode": {
    "name": "ipython",
    "version": 3
   },
   "file_extension": ".py",
   "mimetype": "text/x-python",
   "name": "python",
   "nbconvert_exporter": "python",
   "pygments_lexer": "ipython3",
   "version": "3.5.3"
  }
 },
 "nbformat": 4,
 "nbformat_minor": 0
}
